{
  "nbformat": 4,
  "nbformat_minor": 0,
  "metadata": {
    "colab": {
      "name": "problem1_finale_final.ipynb",
      "version": "0.3.2",
      "provenance": [],
      "collapsed_sections": []
    },
    "language_info": {
      "codemirror_mode": {
        "name": "ipython",
        "version": 3
      },
      "file_extension": ".py",
      "mimetype": "text/x-python",
      "name": "python",
      "nbconvert_exporter": "python",
      "pygments_lexer": "ipython3",
      "version": "3.7.3"
    },
    "kernelspec": {
      "display_name": "Python 3",
      "language": "python",
      "name": "python3"
    },
    "accelerator": "GPU"
  },
  "cells": [
    {
      "cell_type": "code",
      "metadata": {
        "colab_type": "code",
        "id": "5hdTL30fosRl",
        "colab": {}
      },
      "source": [
        "import keras\n",
        "import numpy as np\n",
        "from keras.layers import Dense, Flatten, Conv2D, MaxPooling2D\n",
        "from keras.models import Sequential, load_model\n",
        "import matplotlib.pylab as plt\n",
        "import pandas as pd\n",
        "from google.colab import drive\n",
        "from sklearn.model_selection import train_test_split\n",
        "import pickle\n",
        "import os"
      ],
      "execution_count": 0,
      "outputs": []
    },
    {
      "cell_type": "code",
      "metadata": {
        "colab_type": "code",
        "id": "yLDE5CpQtZD9",
        "outputId": "e98be70e-a45e-4a5b-e2e0-925d23f80749",
        "colab": {
          "base_uri": "https://localhost:8080/",
          "height": 35
        }
      },
      "source": [
        "drive.mount('/content/gdrive/', force_remount=True)"
      ],
      "execution_count": 0,
      "outputs": [
        {
          "output_type": "stream",
          "text": [
            "Mounted at /content/gdrive/\n"
          ],
          "name": "stdout"
        }
      ]
    },
    {
      "cell_type": "code",
      "metadata": {
        "id": "OxD40G9T2t83",
        "colab_type": "code",
        "outputId": "b1a3f374-cc55-43b8-e5a2-5749f18ffdae",
        "colab": {
          "base_uri": "https://localhost:8080/",
          "height": 146
        }
      },
      "source": [
        "!cd / && mkdir -p \"/content/gdrive/My Drive/neural_networks/hw1/problem1/models\"\n",
        "!cd / && mkdir -p \"/content/gdrive/My Drive/neural_networks/hw1/problem1/datasets\"\n",
        "!cd / && wget -nc \"https://raw.githubusercontent.com/jbrownlee/Datasets/master/pima-indians-diabetes.data.csv\" -O \"/content/gdrive/My Drive/neural_networks/hw1/problem1/datasets/pima.csv\""
      ],
      "execution_count": 0,
      "outputs": [
        {
          "output_type": "stream",
          "text": [
            "shell-init: error retrieving current directory: getcwd: cannot access parent directories: Transport endpoint is not connected\n",
            "chdir: error retrieving current directory: getcwd: cannot access parent directories: Transport endpoint is not connected\n",
            "shell-init: error retrieving current directory: getcwd: cannot access parent directories: Transport endpoint is not connected\n",
            "chdir: error retrieving current directory: getcwd: cannot access parent directories: Transport endpoint is not connected\n",
            "shell-init: error retrieving current directory: getcwd: cannot access parent directories: Transport endpoint is not connected\n",
            "chdir: error retrieving current directory: getcwd: cannot access parent directories: Transport endpoint is not connected\n",
            "File ‘/content/gdrive/My Drive/neural_networks/hw1/problem1/datasets/pima.csv’ already there; not retrieving.\n"
          ],
          "name": "stdout"
        }
      ]
    },
    {
      "cell_type": "code",
      "metadata": {
        "colab_type": "code",
        "id": "YR10PI7GpqZC",
        "outputId": "f37ce5b9-b80d-4522-a981-d5412bc9a7d3",
        "colab": {
          "base_uri": "https://localhost:8080/",
          "height": 54
        }
      },
      "source": [
        "os.chdir('/content/gdrive/My Drive/neural_networks/hw1/problem1')\n",
        "\n",
        "dataset_path = 'datasets/pima.csv'\n",
        "data = pd.read_csv(dataset_path).values\n",
        "\n",
        "X = data[:,:-1]\n",
        "Y = data[:,-1:].flatten()\n",
        "x_train, x_test, y_train, y_test = train_test_split(X, Y, test_size=0.1, random_state=64)\n",
        "\n",
        "print(\"train data: \", x_train.shape)\n",
        "print(\"test data: \", x_test.shape)"
      ],
      "execution_count": 0,
      "outputs": [
        {
          "output_type": "stream",
          "text": [
            "train data:  (690, 8)\n",
            "test data:  (77, 8)\n"
          ],
          "name": "stdout"
        }
      ]
    },
    {
      "cell_type": "code",
      "metadata": {
        "colab_type": "code",
        "id": "CNUrYjzt_oOJ",
        "colab": {}
      },
      "source": [
        "batch_size = 50\n",
        "epochs = 100\n",
        "np.random.seed(1000)"
      ],
      "execution_count": 0,
      "outputs": []
    },
    {
      "cell_type": "code",
      "metadata": {
        "colab_type": "code",
        "id": "PYefifxgIRl8",
        "colab": {}
      },
      "source": [
        "model = Sequential()\n",
        "model.add(Dense(12, activation='relu'))\n",
        "model.add(Dense(8,  activation='relu'))\n",
        "model.add(Dense(1, activation='sigmoid'))"
      ],
      "execution_count": 0,
      "outputs": []
    },
    {
      "cell_type": "code",
      "metadata": {
        "colab_type": "code",
        "id": "jQAHA9fjJA75",
        "outputId": "cbcba8be-7aa6-44c3-cf03-aa2ae85bea84",
        "colab": {
          "base_uri": "https://localhost:8080/",
          "height": 92
        }
      },
      "source": [
        "model.compile(loss=keras.losses.binary_crossentropy,\n",
        "             optimizer=keras.optimizers.Adam(),\n",
        "             metrics=['accuracy'])"
      ],
      "execution_count": 0,
      "outputs": [
        {
          "output_type": "stream",
          "text": [
            "WARNING:tensorflow:From /usr/local/lib/python3.6/dist-packages/tensorflow/python/framework/op_def_library.py:263: colocate_with (from tensorflow.python.framework.ops) is deprecated and will be removed in a future version.\n",
            "Instructions for updating:\n",
            "Colocations handled automatically by placer.\n"
          ],
          "name": "stdout"
        }
      ]
    },
    {
      "cell_type": "code",
      "metadata": {
        "colab_type": "code",
        "id": "LmmjjpwtJj1l",
        "colab": {}
      },
      "source": [
        "# class ModelSave(keras.callbacks.Callback):\n",
        "#     output_file = 'models/modelsave-latest-model'\n",
        "#     best_model_file = 'models/modelsave-best-model'\n",
        "    \n",
        "#     def on_train_begin(self, logs={}):\n",
        "#         self.max_accuracy = 0\n",
        "        \n",
        "#     def on_epoch_end(self, batch, logs={}):\n",
        "#         with open(self.output_file, 'wb') as f:\n",
        "#           pickle.dump(model, f)\n",
        "        \n",
        "#         if logs.get('val_acc') > self.max_accuracy:          \n",
        "#           self.max_accuracy = logs.get('val_acc')\n",
        "          \n",
        "#           with open(self.best_model_file, 'wb') as f:\n",
        "#             pickle.dump(model, f)"
      ],
      "execution_count": 0,
      "outputs": []
    },
    {
      "cell_type": "code",
      "metadata": {
        "colab_type": "code",
        "id": "37ZNUvZlXEnE",
        "outputId": "2ab3bf37-1525-42b7-f54c-eb561b419ec5",
        "colab": {
          "base_uri": "https://localhost:8080/",
          "height": 3784
        }
      },
      "source": [
        "from keras.callbacks import ModelCheckpoint\n",
        "\n",
        "\n",
        "history = model.fit(x_train, y_train,\n",
        "            batch_size=batch_size,\n",
        "            epochs=epochs,\n",
        "            verbose=1,\n",
        "            validation_data=(x_test, y_test),\n",
        "            callbacks=[\n",
        "#                 ModelSave(),\n",
        "                ModelCheckpoint('models/modelcheckpoint-{epoch:02d}', save_best_only=False),\n",
        "                ModelCheckpoint('models/modelcheckpoint-best', monitor='val_acc',save_best_only=True),\n",
        "            ])"
      ],
      "execution_count": 0,
      "outputs": [
        {
          "output_type": "stream",
          "text": [
            "WARNING:tensorflow:From /usr/local/lib/python3.6/dist-packages/tensorflow/python/ops/math_ops.py:3066: to_int32 (from tensorflow.python.ops.math_ops) is deprecated and will be removed in a future version.\n",
            "Instructions for updating:\n",
            "Use tf.cast instead.\n",
            "Train on 690 samples, validate on 77 samples\n",
            "Epoch 1/100\n",
            "690/690 [==============================] - 1s 2ms/step - loss: 2.8168 - acc: 0.6029 - val_loss: 2.1273 - val_acc: 0.6104\n",
            "Epoch 2/100\n",
            "690/690 [==============================] - 0s 68us/step - loss: 2.1166 - acc: 0.5884 - val_loss: 1.3859 - val_acc: 0.5065\n",
            "Epoch 3/100\n",
            "690/690 [==============================] - 0s 67us/step - loss: 1.6155 - acc: 0.5565 - val_loss: 1.2176 - val_acc: 0.5065\n",
            "Epoch 4/100\n",
            "690/690 [==============================] - 0s 63us/step - loss: 1.4114 - acc: 0.5812 - val_loss: 1.0610 - val_acc: 0.5844\n",
            "Epoch 5/100\n",
            "690/690 [==============================] - 0s 64us/step - loss: 1.2913 - acc: 0.6261 - val_loss: 0.9966 - val_acc: 0.5714\n",
            "Epoch 6/100\n",
            "690/690 [==============================] - 0s 72us/step - loss: 1.1989 - acc: 0.6014 - val_loss: 0.9545 - val_acc: 0.5974\n",
            "Epoch 7/100\n",
            "690/690 [==============================] - 0s 70us/step - loss: 1.1390 - acc: 0.6246 - val_loss: 0.9150 - val_acc: 0.5974\n",
            "Epoch 8/100\n",
            "690/690 [==============================] - 0s 62us/step - loss: 1.0920 - acc: 0.6159 - val_loss: 0.8859 - val_acc: 0.6234\n",
            "Epoch 9/100\n",
            "690/690 [==============================] - 0s 65us/step - loss: 1.0415 - acc: 0.6101 - val_loss: 0.8702 - val_acc: 0.6234\n",
            "Epoch 10/100\n",
            "690/690 [==============================] - 0s 63us/step - loss: 1.0089 - acc: 0.6058 - val_loss: 0.8666 - val_acc: 0.6234\n",
            "Epoch 11/100\n",
            "690/690 [==============================] - 0s 65us/step - loss: 0.9556 - acc: 0.6188 - val_loss: 0.8465 - val_acc: 0.6234\n",
            "Epoch 12/100\n",
            "690/690 [==============================] - 0s 68us/step - loss: 0.9123 - acc: 0.6362 - val_loss: 0.7751 - val_acc: 0.6364\n",
            "Epoch 13/100\n",
            "690/690 [==============================] - 0s 63us/step - loss: 0.8665 - acc: 0.6145 - val_loss: 0.7463 - val_acc: 0.6234\n",
            "Epoch 14/100\n",
            "690/690 [==============================] - 0s 65us/step - loss: 0.8209 - acc: 0.6362 - val_loss: 0.7020 - val_acc: 0.6364\n",
            "Epoch 15/100\n",
            "690/690 [==============================] - 0s 66us/step - loss: 0.7863 - acc: 0.6362 - val_loss: 0.6561 - val_acc: 0.6883\n",
            "Epoch 16/100\n",
            "690/690 [==============================] - 0s 65us/step - loss: 0.7432 - acc: 0.6420 - val_loss: 0.6659 - val_acc: 0.6883\n",
            "Epoch 17/100\n",
            "690/690 [==============================] - 0s 76us/step - loss: 0.7232 - acc: 0.6362 - val_loss: 0.6107 - val_acc: 0.7273\n",
            "Epoch 18/100\n",
            "690/690 [==============================] - 0s 76us/step - loss: 0.7070 - acc: 0.6333 - val_loss: 0.6287 - val_acc: 0.6623\n",
            "Epoch 19/100\n",
            "690/690 [==============================] - 0s 76us/step - loss: 0.6741 - acc: 0.6725 - val_loss: 0.5927 - val_acc: 0.7662\n",
            "Epoch 20/100\n",
            "690/690 [==============================] - 0s 77us/step - loss: 0.6457 - acc: 0.6435 - val_loss: 0.5996 - val_acc: 0.7662\n",
            "Epoch 21/100\n",
            "690/690 [==============================] - 0s 81us/step - loss: 0.6447 - acc: 0.6493 - val_loss: 0.5840 - val_acc: 0.7792\n",
            "Epoch 22/100\n",
            "690/690 [==============================] - 0s 75us/step - loss: 0.6314 - acc: 0.6667 - val_loss: 0.5611 - val_acc: 0.7403\n",
            "Epoch 23/100\n",
            "690/690 [==============================] - 0s 73us/step - loss: 0.6122 - acc: 0.6870 - val_loss: 0.5826 - val_acc: 0.7273\n",
            "Epoch 24/100\n",
            "690/690 [==============================] - 0s 81us/step - loss: 0.6203 - acc: 0.6739 - val_loss: 0.5599 - val_acc: 0.7403\n",
            "Epoch 25/100\n",
            "690/690 [==============================] - 0s 75us/step - loss: 0.6128 - acc: 0.6768 - val_loss: 0.6088 - val_acc: 0.7273\n",
            "Epoch 26/100\n",
            "690/690 [==============================] - 0s 78us/step - loss: 0.5986 - acc: 0.6942 - val_loss: 0.5873 - val_acc: 0.7662\n",
            "Epoch 27/100\n",
            "690/690 [==============================] - 0s 80us/step - loss: 0.5967 - acc: 0.6957 - val_loss: 0.5684 - val_acc: 0.7792\n",
            "Epoch 28/100\n",
            "690/690 [==============================] - 0s 78us/step - loss: 0.5878 - acc: 0.7101 - val_loss: 0.5577 - val_acc: 0.7143\n",
            "Epoch 29/100\n",
            "690/690 [==============================] - 0s 75us/step - loss: 0.5850 - acc: 0.7116 - val_loss: 0.5576 - val_acc: 0.7143\n",
            "Epoch 30/100\n",
            "690/690 [==============================] - 0s 77us/step - loss: 0.5746 - acc: 0.7145 - val_loss: 0.5580 - val_acc: 0.7273\n",
            "Epoch 31/100\n",
            "690/690 [==============================] - 0s 75us/step - loss: 0.5727 - acc: 0.7174 - val_loss: 0.5594 - val_acc: 0.7532\n",
            "Epoch 32/100\n",
            "690/690 [==============================] - 0s 74us/step - loss: 0.5721 - acc: 0.7174 - val_loss: 0.5600 - val_acc: 0.7143\n",
            "Epoch 33/100\n",
            "690/690 [==============================] - 0s 77us/step - loss: 0.5666 - acc: 0.7290 - val_loss: 0.5736 - val_acc: 0.7532\n",
            "Epoch 34/100\n",
            "690/690 [==============================] - 0s 77us/step - loss: 0.5632 - acc: 0.7333 - val_loss: 0.5606 - val_acc: 0.7273\n",
            "Epoch 35/100\n",
            "690/690 [==============================] - 0s 77us/step - loss: 0.5606 - acc: 0.7203 - val_loss: 0.5579 - val_acc: 0.7273\n",
            "Epoch 36/100\n",
            "690/690 [==============================] - 0s 74us/step - loss: 0.5667 - acc: 0.7159 - val_loss: 0.5674 - val_acc: 0.7403\n",
            "Epoch 37/100\n",
            "690/690 [==============================] - 0s 79us/step - loss: 0.5583 - acc: 0.7203 - val_loss: 0.5920 - val_acc: 0.7403\n",
            "Epoch 38/100\n",
            "690/690 [==============================] - 0s 75us/step - loss: 0.5672 - acc: 0.7203 - val_loss: 0.5564 - val_acc: 0.7403\n",
            "Epoch 39/100\n",
            "690/690 [==============================] - 0s 65us/step - loss: 0.5518 - acc: 0.7275 - val_loss: 0.5598 - val_acc: 0.7273\n",
            "Epoch 40/100\n",
            "690/690 [==============================] - 0s 66us/step - loss: 0.5579 - acc: 0.7072 - val_loss: 0.5683 - val_acc: 0.7403\n",
            "Epoch 41/100\n",
            "690/690 [==============================] - 0s 63us/step - loss: 0.5500 - acc: 0.7203 - val_loss: 0.5869 - val_acc: 0.7403\n",
            "Epoch 42/100\n",
            "690/690 [==============================] - 0s 63us/step - loss: 0.5538 - acc: 0.7290 - val_loss: 0.5714 - val_acc: 0.7532\n",
            "Epoch 43/100\n",
            "690/690 [==============================] - 0s 66us/step - loss: 0.5478 - acc: 0.7333 - val_loss: 0.5610 - val_acc: 0.7532\n",
            "Epoch 44/100\n",
            "690/690 [==============================] - 0s 66us/step - loss: 0.5605 - acc: 0.7246 - val_loss: 0.6562 - val_acc: 0.6753\n",
            "Epoch 45/100\n",
            "690/690 [==============================] - 0s 64us/step - loss: 0.5619 - acc: 0.7116 - val_loss: 0.5828 - val_acc: 0.7662\n",
            "Epoch 46/100\n",
            "690/690 [==============================] - 0s 76us/step - loss: 0.5525 - acc: 0.7261 - val_loss: 0.5694 - val_acc: 0.7273\n",
            "Epoch 47/100\n",
            "690/690 [==============================] - 0s 67us/step - loss: 0.5420 - acc: 0.7420 - val_loss: 0.5721 - val_acc: 0.7273\n",
            "Epoch 48/100\n",
            "690/690 [==============================] - 0s 62us/step - loss: 0.5438 - acc: 0.7304 - val_loss: 0.5728 - val_acc: 0.7532\n",
            "Epoch 49/100\n",
            "690/690 [==============================] - 0s 64us/step - loss: 0.5403 - acc: 0.7449 - val_loss: 0.5708 - val_acc: 0.7403\n",
            "Epoch 50/100\n",
            "690/690 [==============================] - 0s 64us/step - loss: 0.5441 - acc: 0.7145 - val_loss: 0.5785 - val_acc: 0.7143\n",
            "Epoch 51/100\n",
            "690/690 [==============================] - 0s 62us/step - loss: 0.5520 - acc: 0.7333 - val_loss: 0.5827 - val_acc: 0.7143\n",
            "Epoch 52/100\n",
            "690/690 [==============================] - 0s 70us/step - loss: 0.5735 - acc: 0.6986 - val_loss: 0.5750 - val_acc: 0.7403\n",
            "Epoch 53/100\n",
            "690/690 [==============================] - 0s 65us/step - loss: 0.5671 - acc: 0.7275 - val_loss: 0.6022 - val_acc: 0.7532\n",
            "Epoch 54/100\n",
            "690/690 [==============================] - 0s 71us/step - loss: 0.5391 - acc: 0.7217 - val_loss: 0.5914 - val_acc: 0.7013\n",
            "Epoch 55/100\n",
            "690/690 [==============================] - 0s 62us/step - loss: 0.5343 - acc: 0.7406 - val_loss: 0.5721 - val_acc: 0.7662\n",
            "Epoch 56/100\n",
            "690/690 [==============================] - 0s 67us/step - loss: 0.5320 - acc: 0.7449 - val_loss: 0.5788 - val_acc: 0.7532\n",
            "Epoch 57/100\n",
            "690/690 [==============================] - 0s 70us/step - loss: 0.5328 - acc: 0.7406 - val_loss: 0.5795 - val_acc: 0.7532\n",
            "Epoch 58/100\n",
            "690/690 [==============================] - 0s 67us/step - loss: 0.5404 - acc: 0.7362 - val_loss: 0.5828 - val_acc: 0.7532\n",
            "Epoch 59/100\n",
            "690/690 [==============================] - 0s 67us/step - loss: 0.5554 - acc: 0.7246 - val_loss: 0.5788 - val_acc: 0.7403\n",
            "Epoch 60/100\n",
            "690/690 [==============================] - 0s 80us/step - loss: 0.5422 - acc: 0.7203 - val_loss: 0.5889 - val_acc: 0.7403\n",
            "Epoch 61/100\n",
            "690/690 [==============================] - 0s 69us/step - loss: 0.5329 - acc: 0.7464 - val_loss: 0.5829 - val_acc: 0.7532\n",
            "Epoch 62/100\n",
            "690/690 [==============================] - 0s 67us/step - loss: 0.5220 - acc: 0.7565 - val_loss: 0.5950 - val_acc: 0.7273\n",
            "Epoch 63/100\n",
            "690/690 [==============================] - 0s 79us/step - loss: 0.5246 - acc: 0.7507 - val_loss: 0.5864 - val_acc: 0.7143\n",
            "Epoch 64/100\n",
            "690/690 [==============================] - 0s 67us/step - loss: 0.5256 - acc: 0.7348 - val_loss: 0.6069 - val_acc: 0.7143\n",
            "Epoch 65/100\n",
            "690/690 [==============================] - 0s 76us/step - loss: 0.5273 - acc: 0.7478 - val_loss: 0.5851 - val_acc: 0.7532\n",
            "Epoch 66/100\n",
            "690/690 [==============================] - 0s 78us/step - loss: 0.5176 - acc: 0.7594 - val_loss: 0.5834 - val_acc: 0.7532\n",
            "Epoch 67/100\n",
            "690/690 [==============================] - 0s 63us/step - loss: 0.5213 - acc: 0.7551 - val_loss: 0.5806 - val_acc: 0.7403\n",
            "Epoch 68/100\n",
            "690/690 [==============================] - 0s 71us/step - loss: 0.5168 - acc: 0.7536 - val_loss: 0.5903 - val_acc: 0.7403\n",
            "Epoch 69/100\n",
            "690/690 [==============================] - 0s 71us/step - loss: 0.5180 - acc: 0.7623 - val_loss: 0.5908 - val_acc: 0.7403\n",
            "Epoch 70/100\n",
            "690/690 [==============================] - 0s 70us/step - loss: 0.5200 - acc: 0.7580 - val_loss: 0.5907 - val_acc: 0.7143\n",
            "Epoch 71/100\n",
            "690/690 [==============================] - 0s 68us/step - loss: 0.5209 - acc: 0.7536 - val_loss: 0.5958 - val_acc: 0.7273\n",
            "Epoch 72/100\n",
            "690/690 [==============================] - 0s 72us/step - loss: 0.5150 - acc: 0.7609 - val_loss: 0.5899 - val_acc: 0.7403\n",
            "Epoch 73/100\n",
            "690/690 [==============================] - 0s 68us/step - loss: 0.5230 - acc: 0.7464 - val_loss: 0.5962 - val_acc: 0.7403\n",
            "Epoch 74/100\n",
            "690/690 [==============================] - 0s 64us/step - loss: 0.5211 - acc: 0.7594 - val_loss: 0.5928 - val_acc: 0.7143\n",
            "Epoch 75/100\n",
            "690/690 [==============================] - 0s 64us/step - loss: 0.5226 - acc: 0.7493 - val_loss: 0.5876 - val_acc: 0.7662\n",
            "Epoch 76/100\n",
            "690/690 [==============================] - 0s 69us/step - loss: 0.5156 - acc: 0.7710 - val_loss: 0.5819 - val_acc: 0.7403\n",
            "Epoch 77/100\n",
            "690/690 [==============================] - 0s 69us/step - loss: 0.5137 - acc: 0.7507 - val_loss: 0.5943 - val_acc: 0.7273\n",
            "Epoch 78/100\n",
            "690/690 [==============================] - 0s 68us/step - loss: 0.5165 - acc: 0.7681 - val_loss: 0.5931 - val_acc: 0.7273\n",
            "Epoch 79/100\n",
            "690/690 [==============================] - 0s 66us/step - loss: 0.5200 - acc: 0.7638 - val_loss: 0.6151 - val_acc: 0.7143\n",
            "Epoch 80/100\n",
            "690/690 [==============================] - 0s 69us/step - loss: 0.5269 - acc: 0.7362 - val_loss: 0.6139 - val_acc: 0.7143\n",
            "Epoch 81/100\n",
            "690/690 [==============================] - 0s 63us/step - loss: 0.5401 - acc: 0.7464 - val_loss: 0.6436 - val_acc: 0.6753\n",
            "Epoch 82/100\n",
            "690/690 [==============================] - 0s 68us/step - loss: 0.5455 - acc: 0.7333 - val_loss: 0.5898 - val_acc: 0.7662\n",
            "Epoch 83/100\n",
            "690/690 [==============================] - 0s 64us/step - loss: 0.5143 - acc: 0.7652 - val_loss: 0.5848 - val_acc: 0.7662\n",
            "Epoch 84/100\n",
            "690/690 [==============================] - 0s 67us/step - loss: 0.5136 - acc: 0.7652 - val_loss: 0.5924 - val_acc: 0.7273\n",
            "Epoch 85/100\n",
            "690/690 [==============================] - 0s 68us/step - loss: 0.5121 - acc: 0.7406 - val_loss: 0.5925 - val_acc: 0.7273\n",
            "Epoch 86/100\n",
            "690/690 [==============================] - 0s 71us/step - loss: 0.5100 - acc: 0.7652 - val_loss: 0.5870 - val_acc: 0.7403\n",
            "Epoch 87/100\n",
            "690/690 [==============================] - 0s 65us/step - loss: 0.5095 - acc: 0.7594 - val_loss: 0.5838 - val_acc: 0.7662\n",
            "Epoch 88/100\n",
            "690/690 [==============================] - 0s 68us/step - loss: 0.5163 - acc: 0.7406 - val_loss: 0.5987 - val_acc: 0.7662\n",
            "Epoch 89/100\n",
            "690/690 [==============================] - 0s 64us/step - loss: 0.5124 - acc: 0.7638 - val_loss: 0.5832 - val_acc: 0.7532\n",
            "Epoch 90/100\n",
            "690/690 [==============================] - 0s 67us/step - loss: 0.5050 - acc: 0.7580 - val_loss: 0.6282 - val_acc: 0.6883\n",
            "Epoch 91/100\n",
            "690/690 [==============================] - 0s 63us/step - loss: 0.5127 - acc: 0.7565 - val_loss: 0.5807 - val_acc: 0.7662\n",
            "Epoch 92/100\n",
            "690/690 [==============================] - 0s 74us/step - loss: 0.5126 - acc: 0.7696 - val_loss: 0.5881 - val_acc: 0.7792\n",
            "Epoch 93/100\n",
            "690/690 [==============================] - 0s 68us/step - loss: 0.5320 - acc: 0.7290 - val_loss: 0.5815 - val_acc: 0.7662\n",
            "Epoch 94/100\n",
            "690/690 [==============================] - 0s 68us/step - loss: 0.5127 - acc: 0.7522 - val_loss: 0.5987 - val_acc: 0.7143\n",
            "Epoch 95/100\n",
            "690/690 [==============================] - 0s 65us/step - loss: 0.5288 - acc: 0.7507 - val_loss: 0.5898 - val_acc: 0.7403\n",
            "Epoch 96/100\n",
            "690/690 [==============================] - 0s 70us/step - loss: 0.5236 - acc: 0.7493 - val_loss: 0.5887 - val_acc: 0.7403\n",
            "Epoch 97/100\n",
            "690/690 [==============================] - 0s 65us/step - loss: 0.5056 - acc: 0.7609 - val_loss: 0.5939 - val_acc: 0.7143\n",
            "Epoch 98/100\n",
            "690/690 [==============================] - 0s 63us/step - loss: 0.5059 - acc: 0.7696 - val_loss: 0.5790 - val_acc: 0.7792\n",
            "Epoch 99/100\n",
            "690/690 [==============================] - 0s 65us/step - loss: 0.5140 - acc: 0.7464 - val_loss: 0.5846 - val_acc: 0.7532\n",
            "Epoch 100/100\n",
            "690/690 [==============================] - 0s 68us/step - loss: 0.5115 - acc: 0.7522 - val_loss: 0.5867 - val_acc: 0.7662\n"
          ],
          "name": "stdout"
        }
      ]
    },
    {
      "cell_type": "code",
      "metadata": {
        "colab_type": "code",
        "id": "XdnEoFjWXnse",
        "outputId": "f6944ccb-6ea0-4738-a0bc-d34b6c93a891",
        "colab": {
          "base_uri": "https://localhost:8080/",
          "height": 573
        }
      },
      "source": [
        "plt.plot(history.history['acc'])\n",
        "plt.plot(history.history['val_acc'])\n",
        "plt.title('model accuracy')\n",
        "plt.ylabel('accuracy')\n",
        "plt.xlabel('epoch')\n",
        "plt.legend(['train', 'test'], loc='upper left')\n",
        "plt.show()\n",
        "\n",
        "plt.plot(history.history['loss'])\n",
        "plt.plot(history.history['val_loss'])\n",
        "plt.title('model loss')\n",
        "plt.ylabel('loss')\n",
        "plt.xlabel('epoch')\n",
        "plt.legend(['train', 'test'], loc='upper left')\n",
        "plt.show()"
      ],
      "execution_count": 0,
      "outputs": [
        {
          "output_type": "display_data",
          "data": {
            "image/png": "[encoded data removed]",
            "text/plain": [
              "<Figure size 432x288 with 1 Axes>"
            ]
          },
          "metadata": {
            "tags": []
          }
        },
        {
          "output_type": "display_data",
          "data": {
            "image/png": "[encoded data removed]",
            "text/plain": [
              "<Figure size 432x288 with 1 Axes>"
            ]
          },
          "metadata": {
            "tags": []
          }
        }
      ]
    },
    {
      "cell_type": "code",
      "metadata": {
        "colab_type": "code",
        "id": "NQNLy4w_FdBs",
        "outputId": "58a1b50a-c80c-495b-ba2f-0edba42cc215",
        "colab": {
          "base_uri": "https://localhost:8080/",
          "height": 72
        }
      },
      "source": [
        "print('Last epoch:')\n",
        "score = model.evaluate(x_test, y_test, verbose=0)\n",
        "print('\\tTest loss:', score[0])\n",
        "print('\\tTest accuracy:', score[1])"
      ],
      "execution_count": 0,
      "outputs": [
        {
          "output_type": "stream",
          "text": [
            "Last epoch:\n",
            "\tTest loss: 0.5867366210206763\n",
            "\tTest accuracy: 0.7662337693301114\n"
          ],
          "name": "stdout"
        }
      ]
    },
    {
      "cell_type": "code",
      "metadata": {
        "colab_type": "code",
        "id": "itVEUM3192zK",
        "colab": {}
      },
      "source": [
        "# print('Best model:')\n",
        "# with open('models/modelsave-best-model', 'rb') as f:\n",
        "#   best_model = pickle.load(f)\n",
        "#   score = best_model.evaluate(X, Y, verbose=False)\n",
        "#   print('\\tOverall Loss:', score[0])\n",
        "#   print('\\tOverall Accuracy:', score[1])"
      ],
      "execution_count": 0,
      "outputs": []
    },
    {
      "cell_type": "code",
      "metadata": {
        "id": "Hv_X2wGIsV0S",
        "colab_type": "code",
        "outputId": "1bae21d0-34b9-4d09-c6cd-ce79910ebfef",
        "colab": {
          "base_uri": "https://localhost:8080/",
          "height": 54
        }
      },
      "source": [
        "best_model = load_model('models/modelcheckpoint-best')\n",
        "score = best_model.evaluate(X, Y, verbose=False)\n",
        "print('\\tOverall Loss:', score[0])\n",
        "print('\\tOverall Accuracy:', score[1])"
      ],
      "execution_count": 0,
      "outputs": [
        {
          "output_type": "stream",
          "text": [
            "\tOverall Loss: 0.5237770828150087\n",
            "\tOverall Accuracy: 0.7535853967206575\n"
          ],
          "name": "stdout"
        }
      ]
    },
    {
      "cell_type": "code",
      "metadata": {
        "id": "lGDm_0sn0srC",
        "colab_type": "code",
        "colab": {}
      },
      "source": [
        ""
      ],
      "execution_count": 0,
      "outputs": []
    }
  ]
}