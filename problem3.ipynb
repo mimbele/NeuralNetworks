{
  "nbformat": 4,
  "nbformat_minor": 0,
  "metadata": {
    "colab": {
      "name": "problem3_finale_final.ipynb",
      "version": "0.3.2",
      "provenance": [],
      "collapsed_sections": []
    },
    "kernelspec": {
      "name": "python3",
      "display_name": "Python 3"
    },
    "accelerator": "GPU"
  },
  "cells": [
    {
      "cell_type": "code",
      "metadata": {
        "colab_type": "code",
        "id": "z17fN7rJgHi4",
        "colab": {}
      },
      "source": [
        "import numpy as np\n",
        "np.random.seed(1337)  # for reproducibility"
      ],
      "execution_count": 0,
      "outputs": []
    },
    {
      "cell_type": "code",
      "metadata": {
        "colab_type": "code",
        "id": "DNJOntwEgF0H",
        "outputId": "c43a7298-25f9-48e3-f27e-3d9eb1ffcd22",
        "colab": {
          "base_uri": "https://localhost:8080/",
          "height": 35
        }
      },
      "source": [
        "import keras\n",
        "from keras.datasets import mnist\n",
        "from keras.models import Sequential\n",
        "from keras.layers import Dense, Embedding\n",
        "from keras.layers import Conv1D, MaxPooling2D, GlobalMaxPooling1D\n",
        "from keras.utils import np_utils\n",
        "import pandas as pd\n",
        "from google.colab import drive\n",
        "from keras.preprocessing.image import ImageDataGenerator\n",
        "import matplotlib.pylab as plt\n",
        "import pickle\n",
        "import os"
      ],
      "execution_count": 2,
      "outputs": [
        {
          "output_type": "stream",
          "text": [
            "Using TensorFlow backend.\n"
          ],
          "name": "stderr"
        }
      ]
    },
    {
      "cell_type": "code",
      "metadata": {
        "id": "MUitwQZv4SIS",
        "colab_type": "code",
        "outputId": "57ce4c61-0d5a-403f-a1a3-b8b950074b22",
        "colab": {
          "base_uri": "https://localhost:8080/",
          "height": 35
        }
      },
      "source": [
        "drive.mount('/content/gdrive/', force_remount=True)"
      ],
      "execution_count": 3,
      "outputs": [
        {
          "output_type": "stream",
          "text": [
            "Mounted at /content/gdrive/\n"
          ],
          "name": "stdout"
        }
      ]
    },
    {
      "cell_type": "code",
      "metadata": {
        "id": "L7PopG8YXX3R",
        "colab_type": "code",
        "outputId": "1543fc36-475c-453b-e1c1-5d7c117c23c0",
        "colab": {
          "base_uri": "https://localhost:8080/",
          "height": 35
        }
      },
      "source": [
        "!cd / && mkdir -p \"/content/gdrive/My Drive/neural_networks/hw1/problem3/models\"\n",
        "!cd / && mkdir -p \"/content/gdrive/My Drive/neural_networks/hw1/problem3/datasets\""
      ],
      "execution_count": 4,
      "outputs": [
        {
          "output_type": "stream",
          "text": [
            "File ‘/content/gdrive/My Drive/neural_networks/hw1/problem3/datasets/amazon.csv’ already there; not retrieving.\n"
          ],
          "name": "stdout"
        }
      ]
    },
    {
      "cell_type": "code",
      "metadata": {
        "id": "NLJo1Jd34Ty6",
        "colab_type": "code",
        "colab": {}
      },
      "source": [
        "os.chdir('/content/gdrive/My Drive/neural_networks/hw1/problem3')\n",
        "data = pd.read_csv('datasets/amazon.csv').values\n",
        "\n",
        "data = data[data[:, 6] != 3]\n",
        "\n",
        "X, Y = data[:, 11], ((data[:, 6] > 3) + 0)\n",
        "\n",
        "from sklearn.model_selection import train_test_split\n",
        "\n",
        "raw_x_train, raw_x_test, y_train, y_test = train_test_split(X, Y, test_size=0.1)"
      ],
      "execution_count": 0,
      "outputs": []
    },
    {
      "cell_type": "code",
      "metadata": {
        "id": "tCsiWMYa-Mjb",
        "colab_type": "code",
        "colab": {}
      },
      "source": [
        "words = {}\n",
        "for comment in raw_x_train:\n",
        "  for raw_word in comment.split(' '):\n",
        "    word = raw_word.lower()\n",
        "    if words.get(word) is None:\n",
        "      words[word] = 1\n",
        "    else:\n",
        "      words[word] = words[word] + 1  "
      ],
      "execution_count": 0,
      "outputs": []
    },
    {
      "cell_type": "code",
      "metadata": {
        "id": "Q5JmyXvj_w4X",
        "colab_type": "code",
        "colab": {}
      },
      "source": [
        "sorted_words = list(map(lambda x: x[0], sorted(words.items(), reverse=True, key=lambda x: x[1])))\n",
        "# sorted_words = list(map(lambda x: x[0], words.items()))\n",
        "dictionary = {}\n",
        "i = 0\n",
        "for word in sorted_words:\n",
        "  i = i + 1\n",
        "  dictionary[word] = i\n",
        "#   if i == 100:\n",
        "#     break"
      ],
      "execution_count": 0,
      "outputs": []
    },
    {
      "cell_type": "code",
      "metadata": {
        "id": "_3M8bUF97-bY",
        "colab_type": "code",
        "colab": {}
      },
      "source": [
        "import json\n",
        "\n",
        "with open('dictionary.json', 'w') as f:\n",
        "  json.dump(dictionary, f)"
      ],
      "execution_count": 0,
      "outputs": []
    },
    {
      "cell_type": "code",
      "metadata": {
        "id": "biMw65tf827Q",
        "colab_type": "code",
        "colab": {}
      },
      "source": [
        "with open('dictionary.json', 'r') as f:\n",
        "  dictionary = json.load(f)"
      ],
      "execution_count": 0,
      "outputs": []
    },
    {
      "cell_type": "code",
      "metadata": {
        "id": "aAwLMNFpIS4M",
        "colab_type": "code",
        "colab": {}
      },
      "source": [
        "max_comment_len_in_words = 100\n",
        "x_train = np.zeros((len(raw_x_train), max_comment_len_in_words), dtype=(int, int))\n",
        "for i in range(0, len(raw_x_train)):\n",
        "  comment = raw_x_train[i]\n",
        "  comment_words = comment.split(' ')\n",
        "  offset = 0\n",
        "  for j in range(0, min(len(comment_words), max_comment_len_in_words)):\n",
        "    while (j + offset) < len(comment_words) and dictionary.get(comment_words[j + offset].lower()) is None:\n",
        "      offset = offset + 1\n",
        "    if j + offset == len(comment_words):\n",
        "      break\n",
        "    x_train[i][j] = dictionary.get(comment_words[j + offset].lower(), 0)\n",
        "    \n",
        "\n",
        "x_test = np.zeros((len(raw_x_test), max_comment_len_in_words), dtype=(int, int))\n",
        "for i in range(0, len(raw_x_test)):\n",
        "  comment = raw_x_test[i]\n",
        "  comment_words = comment.split(' ')\n",
        "  offset = 0\n",
        "  for j in range(0, min(len(comment_words), max_comment_len_in_words)):\n",
        "    while (j + offset) < len(comment_words) and dictionary.get(comment_words[j + offset].lower(), 0) == 0:\n",
        "      offset = offset + 1\n",
        "    if j + offset == len(comment_words):\n",
        "      break\n",
        "    x_test[i][j] = dictionary.get(comment_words[j + offset].lower(), 0)"
      ],
      "execution_count": 0,
      "outputs": []
    },
    {
      "cell_type": "code",
      "metadata": {
        "id": "TeeD9EsKHtWn",
        "colab_type": "code",
        "outputId": "ac470833-b8a2-456f-d4ba-e40ed941d57f",
        "colab": {
          "base_uri": "https://localhost:8080/",
          "height": 182
        }
      },
      "source": [
        "\n",
        "print(x_test[0])\n",
        "print(raw_x_test[0])"
      ],
      "execution_count": 11,
      "outputs": [
        {
          "output_type": "stream",
          "text": [
            "[   7  124 2809  815 3172 6104 2531 1417    0    0    0    0    0    0\n",
            "    0    0    0    0    0    0    0    0    0    0    0    0    0    0\n",
            "    0    0    0    0    0    0    0    0    0    0    0    0    0    0\n",
            "    0    0    0    0    0    0    0    0    0    0    0    0    0    0\n",
            "    0    0    0    0    0    0    0    0    0    0    0    0    0    0\n",
            "    0    0    0    0    0    0    0    0    0    0    0    0    0    0\n",
            "    0    0    0    0    0    0    0    0    0    0    0    0    0    0\n",
            "    0    0]\n",
            "product wonder drizzl pizza mediocr magnific mere moment\n"
          ],
          "name": "stdout"
        }
      ]
    },
    {
      "cell_type": "code",
      "metadata": {
        "id": "UK02cUGdFFvq",
        "colab_type": "code",
        "outputId": "966f8309-e1d4-4607-cb7f-26c9c00930e6",
        "colab": {
          "base_uri": "https://localhost:8080/",
          "height": 92
        }
      },
      "source": [
        "model = Sequential()\n",
        "\n",
        "model.add(Embedding(len(dictionary) + 1, output_dim=1, input_length=max_comment_len_in_words))\n",
        "model.add(Conv1D(64, kernel_size=3, activation='relu'))\n",
        "model.add(Conv1D(32, kernel_size=3, activation='relu'))\n",
        "model.add(Conv1D(16, kernel_size=3, activation='relu'))\n",
        "model.add(GlobalMaxPooling1D())\n",
        "model.add(Dense(12, activation='relu'))\n",
        "model.add(Dense(1,  activation='sigmoid'))"
      ],
      "execution_count": 12,
      "outputs": [
        {
          "output_type": "stream",
          "text": [
            "WARNING:tensorflow:From /usr/local/lib/python3.6/dist-packages/tensorflow/python/framework/op_def_library.py:263: colocate_with (from tensorflow.python.framework.ops) is deprecated and will be removed in a future version.\n",
            "Instructions for updating:\n",
            "Colocations handled automatically by placer.\n"
          ],
          "name": "stdout"
        }
      ]
    },
    {
      "cell_type": "code",
      "metadata": {
        "id": "CC1Dh9x9FNz6",
        "colab_type": "code",
        "colab": {}
      },
      "source": [
        "model.compile(loss='binary_crossentropy',\n",
        "              optimizer=keras.optimizers.SGD(lr=.01, momentum=0.5),\n",
        "              metrics=['accuracy'],\n",
        ")"
      ],
      "execution_count": 0,
      "outputs": []
    },
    {
      "cell_type": "code",
      "metadata": {
        "id": "y6cTQK5KX8wN",
        "colab_type": "code",
        "colab": {}
      },
      "source": [
        "def learning_rate_scheduler(epoch, lr):\n",
        "  decay_rate = 0.2\n",
        "  if epoch:\n",
        "    return lr * decay_rate\n",
        "  return lr"
      ],
      "execution_count": 0,
      "outputs": []
    },
    {
      "cell_type": "code",
      "metadata": {
        "id": "L5cJQdWDHQoR",
        "colab_type": "code",
        "outputId": "e4950334-77ba-4733-cf6a-eabd60127967",
        "colab": {
          "base_uri": "https://localhost:8080/",
          "height": 1635
        }
      },
      "source": [
        "from keras.callbacks import LearningRateScheduler, ReduceLROnPlateau, ModelCheckpoint\n",
        "\n",
        "history = model.fit(\n",
        "    x_train,\n",
        "    y_train,\n",
        "    batch_size=30,\n",
        "    epochs=20,\n",
        "    verbose=1,\n",
        "    validation_data=(x_test, y_test),\n",
        "    callbacks=[\n",
        "        LearningRateScheduler(learning_rate_scheduler, verbose=1),\n",
        "#         ReduceLROnPlateau(monitor='val_acc', verbose=1, patience=2),\n",
        "        ModelCheckpoint('models/modelcheckpoint-{epoch:02d}', save_best_only=False),\n",
        "        ModelCheckpoint('models/modelcheckpoint-best', monitor='val_acc',save_best_only=True),\n",
        "    ],\n",
        ")"
      ],
      "execution_count": 15,
      "outputs": [
        {
          "output_type": "stream",
          "text": [
            "WARNING:tensorflow:From /usr/local/lib/python3.6/dist-packages/tensorflow/python/ops/math_ops.py:3066: to_int32 (from tensorflow.python.ops.math_ops) is deprecated and will be removed in a future version.\n",
            "Instructions for updating:\n",
            "Use tf.cast instead.\n",
            "WARNING:tensorflow:From /usr/local/lib/python3.6/dist-packages/tensorflow/python/ops/math_grad.py:102: div (from tensorflow.python.ops.math_ops) is deprecated and will be removed in a future version.\n",
            "Instructions for updating:\n",
            "Deprecated in favor of operator or tf.math.divide.\n",
            "Train on 45000 samples, validate on 5000 samples\n",
            "Epoch 1/20\n",
            "\n",
            "Epoch 00001: LearningRateScheduler setting learning rate to 0.009999999776482582.\n",
            "45000/45000 [==============================] - 9s 191us/step - loss: 0.4533 - acc: 0.8351 - val_loss: 0.4368 - val_acc: 0.8418\n",
            "Epoch 2/20\n",
            "\n",
            "Epoch 00002: LearningRateScheduler setting learning rate to 0.0019999999552965165.\n",
            "45000/45000 [==============================] - 6s 131us/step - loss: 0.4470 - acc: 0.8351 - val_loss: 0.4359 - val_acc: 0.8418\n",
            "Epoch 3/20\n",
            "\n",
            "Epoch 00003: LearningRateScheduler setting learning rate to 0.0003999999724328518.\n",
            "45000/45000 [==============================] - 6s 132us/step - loss: 0.4467 - acc: 0.8351 - val_loss: 0.4359 - val_acc: 0.8418\n",
            "Epoch 4/20\n",
            "\n",
            "Epoch 00004: LearningRateScheduler setting learning rate to 7.999999215826393e-05.\n",
            "45000/45000 [==============================] - 6s 135us/step - loss: 0.4467 - acc: 0.8351 - val_loss: 0.4359 - val_acc: 0.8418\n",
            "Epoch 5/20\n",
            "\n",
            "Epoch 00005: LearningRateScheduler setting learning rate to 1.599999814061448e-05.\n",
            "45000/45000 [==============================] - 6s 130us/step - loss: 0.4467 - acc: 0.8351 - val_loss: 0.4358 - val_acc: 0.8418\n",
            "Epoch 6/20\n",
            "\n",
            "Epoch 00006: LearningRateScheduler setting learning rate to 3.199999628122896e-06.\n",
            "45000/45000 [==============================] - 6s 131us/step - loss: 0.4467 - acc: 0.8351 - val_loss: 0.4358 - val_acc: 0.8418\n",
            "Epoch 7/20\n",
            "\n",
            "Epoch 00007: LearningRateScheduler setting learning rate to 6.399999165296323e-07.\n",
            "45000/45000 [==============================] - 6s 130us/step - loss: 0.4467 - acc: 0.8351 - val_loss: 0.4358 - val_acc: 0.8418\n",
            "Epoch 8/20\n",
            "\n",
            "Epoch 00008: LearningRateScheduler setting learning rate to 1.2799998785339995e-07.\n",
            "45000/45000 [==============================] - 6s 130us/step - loss: 0.4467 - acc: 0.8351 - val_loss: 0.4358 - val_acc: 0.8418\n",
            "Epoch 9/20\n",
            "\n",
            "Epoch 00009: LearningRateScheduler setting learning rate to 2.5599996433811613e-08.\n",
            "45000/45000 [==============================] - 6s 133us/step - loss: 0.4467 - acc: 0.8351 - val_loss: 0.4358 - val_acc: 0.8418\n",
            "Epoch 10/20\n",
            "\n",
            "Epoch 00010: LearningRateScheduler setting learning rate to 5.1199993578165965e-09.\n",
            "45000/45000 [==============================] - 6s 133us/step - loss: 0.4467 - acc: 0.8351 - val_loss: 0.4358 - val_acc: 0.8418\n",
            "Epoch 11/20\n",
            "\n",
            "Epoch 00011: LearningRateScheduler setting learning rate to 1.023999907090456e-09.\n",
            "45000/45000 [==============================] - 7s 149us/step - loss: 0.4467 - acc: 0.8351 - val_loss: 0.4358 - val_acc: 0.8418\n",
            "Epoch 12/20\n",
            "\n",
            "Epoch 00012: LearningRateScheduler setting learning rate to 2.0479997697719911e-10.\n",
            "45000/45000 [==============================] - 6s 135us/step - loss: 0.4467 - acc: 0.8351 - val_loss: 0.4358 - val_acc: 0.8418\n",
            "Epoch 13/20\n",
            "\n",
            "Epoch 00013: LearningRateScheduler setting learning rate to 4.095999650566285e-11.\n",
            "45000/45000 [==============================] - 6s 130us/step - loss: 0.4467 - acc: 0.8351 - val_loss: 0.4358 - val_acc: 0.8418\n",
            "Epoch 14/20\n",
            "\n",
            "Epoch 00014: LearningRateScheduler setting learning rate to 8.19199916235469e-12.\n",
            "45000/45000 [==============================] - 6s 130us/step - loss: 0.4467 - acc: 0.8351 - val_loss: 0.4358 - val_acc: 0.8418\n",
            "Epoch 15/20\n",
            "\n",
            "Epoch 00015: LearningRateScheduler setting learning rate to 1.6383998324709382e-12.\n",
            "45000/45000 [==============================] - 6s 131us/step - loss: 0.4467 - acc: 0.8351 - val_loss: 0.4358 - val_acc: 0.8418\n",
            "Epoch 16/20\n",
            "\n",
            "Epoch 00016: LearningRateScheduler setting learning rate to 3.2767996215737895e-13.\n",
            "45000/45000 [==============================] - 6s 129us/step - loss: 0.4467 - acc: 0.8351 - val_loss: 0.4358 - val_acc: 0.8418\n",
            "Epoch 17/20\n",
            "\n",
            "Epoch 00017: LearningRateScheduler setting learning rate to 6.553599351567796e-14.\n",
            "45000/45000 [==============================] - 6s 130us/step - loss: 0.4467 - acc: 0.8351 - val_loss: 0.4358 - val_acc: 0.8418\n",
            "Epoch 18/20\n",
            "\n",
            "Epoch 00018: LearningRateScheduler setting learning rate to 1.310719924523668e-14.\n",
            "45000/45000 [==============================] - 6s 130us/step - loss: 0.4467 - acc: 0.8351 - val_loss: 0.4358 - val_acc: 0.8418\n",
            "Epoch 19/20\n",
            "\n",
            "Epoch 00019: LearningRateScheduler setting learning rate to 2.6214399168099714e-15.\n",
            "45000/45000 [==============================] - 6s 129us/step - loss: 0.4467 - acc: 0.8351 - val_loss: 0.4358 - val_acc: 0.8418\n",
            "Epoch 20/20\n",
            "\n",
            "Epoch 00020: LearningRateScheduler setting learning rate to 5.242879833619943e-16.\n",
            "45000/45000 [==============================] - 6s 129us/step - loss: 0.4467 - acc: 0.8351 - val_loss: 0.4358 - val_acc: 0.8418\n"
          ],
          "name": "stdout"
        }
      ]
    },
    {
      "cell_type": "code",
      "metadata": {
        "id": "fQkc3okvNSVt",
        "colab_type": "code",
        "colab": {
          "base_uri": "https://localhost:8080/",
          "height": 403
        },
        "outputId": "29cccbd6-7eab-4ff3-dbf8-2f5ed78d4f63"
      },
      "source": [
        "model.summary()"
      ],
      "execution_count": 16,
      "outputs": [
        {
          "output_type": "stream",
          "text": [
            "_________________________________________________________________\n",
            "Layer (type)                 Output Shape              Param #   \n",
            "=================================================================\n",
            "embedding_1 (Embedding)      (None, 100, 1)            23965     \n",
            "_________________________________________________________________\n",
            "conv1d_1 (Conv1D)            (None, 98, 64)            256       \n",
            "_________________________________________________________________\n",
            "conv1d_2 (Conv1D)            (None, 96, 32)            6176      \n",
            "_________________________________________________________________\n",
            "conv1d_3 (Conv1D)            (None, 94, 16)            1552      \n",
            "_________________________________________________________________\n",
            "global_max_pooling1d_1 (Glob (None, 16)                0         \n",
            "_________________________________________________________________\n",
            "dense_1 (Dense)              (None, 12)                204       \n",
            "_________________________________________________________________\n",
            "dense_2 (Dense)              (None, 1)                 13        \n",
            "=================================================================\n",
            "Total params: 32,166\n",
            "Trainable params: 32,166\n",
            "Non-trainable params: 0\n",
            "_________________________________________________________________\n"
          ],
          "name": "stdout"
        }
      ]
    },
    {
      "cell_type": "code",
      "metadata": {
        "id": "BpaC3fjYWo3E",
        "colab_type": "code",
        "colab": {
          "base_uri": "https://localhost:8080/",
          "height": 573
        },
        "outputId": "30dd35c7-2d96-4d07-aa65-3c90a3893813"
      },
      "source": [
        "plt.plot(history.history['acc'])\n",
        "plt.plot(history.history['val_acc'])\n",
        "plt.title('model accuracy')\n",
        "plt.ylabel('accuracy')\n",
        "plt.xlabel('epoch')\n",
        "plt.legend(['train', 'test'], loc='upper left')\n",
        "plt.show()\n",
        "\n",
        "plt.plot(history.history['loss'])\n",
        "plt.plot(history.history['val_loss'])\n",
        "plt.title('model loss')\n",
        "plt.ylabel('loss')\n",
        "plt.xlabel('epoch')\n",
        "plt.legend(['train', 'test'], loc='upper left')\n",
        "plt.show()"
      ],
      "execution_count": 17,
      "outputs": [
        {
          "output_type": "display_data",
          "data": {
            "image/png": "[encoded data removed]",
            "text/plain": [
              "<Figure size 432x288 with 1 Axes>"
            ]
          },
          "metadata": {
            "tags": []
          }
        },
        {
          "output_type": "display_data",
          "data": {
            "image/png": "[encoded data removed]",
            "text/plain": [
              "<Figure size 432x288 with 1 Axes>"
            ]
          },
          "metadata": {
            "tags": []
          }
        }
      ]
    },
    {
      "cell_type": "code",
      "metadata": {
        "id": "INYFajFXq2Zd",
        "colab_type": "code",
        "colab": {}
      },
      "source": [
        ""
      ],
      "execution_count": 0,
      "outputs": []
    }
  ]
}